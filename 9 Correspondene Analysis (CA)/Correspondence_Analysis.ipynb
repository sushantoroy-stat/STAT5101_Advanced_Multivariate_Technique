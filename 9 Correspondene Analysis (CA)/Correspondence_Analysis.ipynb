{
 "cells": [
  {
   "cell_type": "markdown",
   "id": "475a9f35-b311-46b3-a188-ce01ffae4184",
   "metadata": {},
   "source": [
    "## 🧑‍💻Correspondence Analysis (CA)\n",
    "- Correspondence Analysis (CA) is a multivariate statistical technique used to analyze and visualize the **relationships between categorical variables in a contingency table**. <br>\n",
    "- It reduces the dimensionality of the data, representing the associations between rows and columns in a low-dimensional space typically two dimensions—for easier interpretation."
   ]
  },
  {
   "cell_type": "code",
   "execution_count": 3,
   "id": "da068316-2df4-4703-921a-98e9a37bbbc9",
   "metadata": {},
   "outputs": [],
   "source": [
    "import pandas as pd\n",
    "import numpy as np\n",
    "import matplotlib.pyplot as plt\n",
    "import warnings\n",
    "warnings.filterwarnings('ignore')"
   ]
  },
  {
   "cell_type": "code",
   "execution_count": 4,
   "id": "e2ed7f96-aedb-4d29-906a-6ffe944bc02d",
   "metadata": {},
   "outputs": [],
   "source": [
    "url = \"https://raw.githubusercontent.com/selva86/datasets/master/USArrests.csv\"\n",
    "df = pd.read_csv(url)"
   ]
  },
  {
   "cell_type": "code",
   "execution_count": 7,
   "id": "e7571580-7e9f-479b-843f-0e1447eb6e6a",
   "metadata": {},
   "outputs": [
    {
     "data": {
      "text/html": [
       "<div>\n",
       "<style scoped>\n",
       "    .dataframe tbody tr th:only-of-type {\n",
       "        vertical-align: middle;\n",
       "    }\n",
       "\n",
       "    .dataframe tbody tr th {\n",
       "        vertical-align: top;\n",
       "    }\n",
       "\n",
       "    .dataframe thead th {\n",
       "        text-align: right;\n",
       "    }\n",
       "</style>\n",
       "<table border=\"1\" class=\"dataframe\">\n",
       "  <thead>\n",
       "    <tr style=\"text-align: right;\">\n",
       "      <th></th>\n",
       "      <th>Murder</th>\n",
       "      <th>Assault</th>\n",
       "      <th>UrbanPop</th>\n",
       "      <th>Rape</th>\n",
       "      <th>State</th>\n",
       "    </tr>\n",
       "  </thead>\n",
       "  <tbody>\n",
       "    <tr>\n",
       "      <th>0</th>\n",
       "      <td>13.2</td>\n",
       "      <td>236</td>\n",
       "      <td>58</td>\n",
       "      <td>21.2</td>\n",
       "      <td>Alabama</td>\n",
       "    </tr>\n",
       "    <tr>\n",
       "      <th>1</th>\n",
       "      <td>10.0</td>\n",
       "      <td>263</td>\n",
       "      <td>48</td>\n",
       "      <td>44.5</td>\n",
       "      <td>Alaska</td>\n",
       "    </tr>\n",
       "    <tr>\n",
       "      <th>2</th>\n",
       "      <td>8.1</td>\n",
       "      <td>294</td>\n",
       "      <td>80</td>\n",
       "      <td>31.0</td>\n",
       "      <td>Arizona</td>\n",
       "    </tr>\n",
       "    <tr>\n",
       "      <th>3</th>\n",
       "      <td>8.8</td>\n",
       "      <td>190</td>\n",
       "      <td>50</td>\n",
       "      <td>19.5</td>\n",
       "      <td>Arkansas</td>\n",
       "    </tr>\n",
       "    <tr>\n",
       "      <th>4</th>\n",
       "      <td>9.0</td>\n",
       "      <td>276</td>\n",
       "      <td>91</td>\n",
       "      <td>40.6</td>\n",
       "      <td>California</td>\n",
       "    </tr>\n",
       "  </tbody>\n",
       "</table>\n",
       "</div>"
      ],
      "text/plain": [
       "   Murder  Assault  UrbanPop  Rape       State\n",
       "0    13.2      236        58  21.2     Alabama\n",
       "1    10.0      263        48  44.5      Alaska\n",
       "2     8.1      294        80  31.0     Arizona\n",
       "3     8.8      190        50  19.5    Arkansas\n",
       "4     9.0      276        91  40.6  California"
      ]
     },
     "execution_count": 7,
     "metadata": {},
     "output_type": "execute_result"
    }
   ],
   "source": [
    "df.head()"
   ]
  },
  {
   "cell_type": "code",
   "execution_count": 6,
   "id": "ce72b70c-cef1-4e2c-b179-00ac87ad1f12",
   "metadata": {},
   "outputs": [
    {
     "data": {
      "text/plain": [
       "(50, 5)"
      ]
     },
     "execution_count": 6,
     "metadata": {},
     "output_type": "execute_result"
    }
   ],
   "source": [
    "df.shape"
   ]
  },
  {
   "cell_type": "code",
   "execution_count": 9,
   "id": "337e0b02-8726-4cc7-9acb-878fe24f358d",
   "metadata": {},
   "outputs": [],
   "source": [
    "# Keep only the numeric columns used in classical demos\n",
    "X = df[['Murder','Assault','UrbanPop','Rape']].copy()\n",
    "states = df['Unnamed: 0'].rename('State') if 'Unnamed: 0' in df.columns else df.index.to_series().rename('State')"
   ]
  },
  {
   "cell_type": "code",
   "execution_count": 11,
   "id": "c0ebbd26-a143-4ab7-9177-aeb260c06d9b",
   "metadata": {},
   "outputs": [
    {
     "data": {
      "text/html": [
       "<div>\n",
       "<style scoped>\n",
       "    .dataframe tbody tr th:only-of-type {\n",
       "        vertical-align: middle;\n",
       "    }\n",
       "\n",
       "    .dataframe tbody tr th {\n",
       "        vertical-align: top;\n",
       "    }\n",
       "\n",
       "    .dataframe thead th {\n",
       "        text-align: right;\n",
       "    }\n",
       "</style>\n",
       "<table border=\"1\" class=\"dataframe\">\n",
       "  <thead>\n",
       "    <tr style=\"text-align: right;\">\n",
       "      <th></th>\n",
       "      <th>count</th>\n",
       "      <th>mean</th>\n",
       "      <th>std</th>\n",
       "      <th>min</th>\n",
       "      <th>25%</th>\n",
       "      <th>50%</th>\n",
       "      <th>75%</th>\n",
       "      <th>max</th>\n",
       "    </tr>\n",
       "  </thead>\n",
       "  <tbody>\n",
       "    <tr>\n",
       "      <th>Murder</th>\n",
       "      <td>50.0</td>\n",
       "      <td>7.788</td>\n",
       "      <td>4.355510</td>\n",
       "      <td>0.8</td>\n",
       "      <td>4.075</td>\n",
       "      <td>7.25</td>\n",
       "      <td>11.250</td>\n",
       "      <td>17.4</td>\n",
       "    </tr>\n",
       "    <tr>\n",
       "      <th>Assault</th>\n",
       "      <td>50.0</td>\n",
       "      <td>170.760</td>\n",
       "      <td>83.337661</td>\n",
       "      <td>45.0</td>\n",
       "      <td>109.000</td>\n",
       "      <td>159.00</td>\n",
       "      <td>249.000</td>\n",
       "      <td>337.0</td>\n",
       "    </tr>\n",
       "    <tr>\n",
       "      <th>UrbanPop</th>\n",
       "      <td>50.0</td>\n",
       "      <td>65.540</td>\n",
       "      <td>14.474763</td>\n",
       "      <td>32.0</td>\n",
       "      <td>54.500</td>\n",
       "      <td>66.00</td>\n",
       "      <td>77.750</td>\n",
       "      <td>91.0</td>\n",
       "    </tr>\n",
       "    <tr>\n",
       "      <th>Rape</th>\n",
       "      <td>50.0</td>\n",
       "      <td>21.232</td>\n",
       "      <td>9.366385</td>\n",
       "      <td>7.3</td>\n",
       "      <td>15.075</td>\n",
       "      <td>20.10</td>\n",
       "      <td>26.175</td>\n",
       "      <td>46.0</td>\n",
       "    </tr>\n",
       "  </tbody>\n",
       "</table>\n",
       "</div>"
      ],
      "text/plain": [
       "          count     mean        std   min      25%     50%      75%    max\n",
       "Murder     50.0    7.788   4.355510   0.8    4.075    7.25   11.250   17.4\n",
       "Assault    50.0  170.760  83.337661  45.0  109.000  159.00  249.000  337.0\n",
       "UrbanPop   50.0   65.540  14.474763  32.0   54.500   66.00   77.750   91.0\n",
       "Rape       50.0   21.232   9.366385   7.3   15.075   20.10   26.175   46.0"
      ]
     },
     "execution_count": 11,
     "metadata": {},
     "output_type": "execute_result"
    }
   ],
   "source": [
    "X.describe().T"
   ]
  },
  {
   "cell_type": "code",
   "execution_count": 12,
   "id": "de0794ea-1fdf-4530-b103-35082e663b17",
   "metadata": {},
   "outputs": [],
   "source": [
    "# Matrix of nonnegative values\n",
    "A = X.to_numpy(dtype=float)\n",
    "\n",
    "# Convert to relative frequencies (P) so CA works on profiles\n",
    "grand_total = A.sum()\n",
    "P = A / grand_total\n",
    "\n",
    "# Row and column masses (marginals)\n",
    "r = P.sum(axis=1, keepdims=True)        # (n_rows, 1)\n",
    "c = P.sum(axis=0, keepdims=True)        # (1, n_cols)\n"
   ]
  },
  {
   "cell_type": "code",
   "execution_count": 13,
   "id": "d35b895b-0b3c-45a8-b8cd-16af4ae72d09",
   "metadata": {},
   "outputs": [],
   "source": [
    "# Expected under independence\n",
    "rcT = r @ c   # outer product\n",
    "\n",
    "# Diagonal mass matrices (as sqrt-inverses)\n",
    "Dr_inv_sqrt = np.diag((r.flatten())**-0.5)\n",
    "Dc_inv_sqrt = np.diag((c.flatten())**-0.5)\n",
    "\n",
    "# Standardized residuals\n",
    "S = Dr_inv_sqrt @ (P - rcT) @ Dc_inv_sqrt\n"
   ]
  },
  {
   "cell_type": "code",
   "execution_count": 14,
   "id": "94e4a627-6f14-472c-954d-f2d500aafa6e",
   "metadata": {},
   "outputs": [
    {
     "data": {
      "text/html": [
       "<div>\n",
       "<style scoped>\n",
       "    .dataframe tbody tr th:only-of-type {\n",
       "        vertical-align: middle;\n",
       "    }\n",
       "\n",
       "    .dataframe tbody tr th {\n",
       "        vertical-align: top;\n",
       "    }\n",
       "\n",
       "    .dataframe thead th {\n",
       "        text-align: right;\n",
       "    }\n",
       "</style>\n",
       "<table border=\"1\" class=\"dataframe\">\n",
       "  <thead>\n",
       "    <tr style=\"text-align: right;\">\n",
       "      <th></th>\n",
       "      <th>eigenvalue</th>\n",
       "      <th>explained_inertia_%</th>\n",
       "    </tr>\n",
       "  </thead>\n",
       "  <tbody>\n",
       "    <tr>\n",
       "      <th>0</th>\n",
       "      <td>4.501357e-02</td>\n",
       "      <td>8.353547e+01</td>\n",
       "    </tr>\n",
       "    <tr>\n",
       "      <th>1</th>\n",
       "      <td>6.065461e-03</td>\n",
       "      <td>1.125619e+01</td>\n",
       "    </tr>\n",
       "    <tr>\n",
       "      <th>2</th>\n",
       "      <td>2.806548e-03</td>\n",
       "      <td>5.208347e+00</td>\n",
       "    </tr>\n",
       "    <tr>\n",
       "      <th>3</th>\n",
       "      <td>1.293934e-32</td>\n",
       "      <td>2.401262e-29</td>\n",
       "    </tr>\n",
       "  </tbody>\n",
       "</table>\n",
       "</div>"
      ],
      "text/plain": [
       "     eigenvalue  explained_inertia_%\n",
       "0  4.501357e-02         8.353547e+01\n",
       "1  6.065461e-03         1.125619e+01\n",
       "2  2.806548e-03         5.208347e+00\n",
       "3  1.293934e-32         2.401262e-29"
      ]
     },
     "execution_count": 14,
     "metadata": {},
     "output_type": "execute_result"
    }
   ],
   "source": [
    "U, s, Vt = np.linalg.svd(S, full_matrices=False)\n",
    "eigvals = s**2                        # eigenvalues (principal inertias)\n",
    "explained = eigvals / eigvals.sum()   # proportion of inertia\n",
    "\n",
    "pd.DataFrame({\n",
    "    'eigenvalue': eigvals,\n",
    "    'explained_inertia_%': 100*explained\n",
    "}).head(4)\n"
   ]
  },
  {
   "cell_type": "code",
   "execution_count": 15,
   "id": "12acde42-a7bd-4527-b851-9f23f7213f32",
   "metadata": {},
   "outputs": [
    {
     "data": {
      "text/plain": [
       "(   State      Dim1      Dim2\n",
       " 0      0 -0.181415 -0.024962\n",
       " 1      1 -0.224989  0.170053\n",
       " 2      2 -0.129295 -0.019609\n",
       " 3      3 -0.149569 -0.008356\n",
       " 4      4 -0.047561  0.057339,\n",
       "    Variable      Dim1      Dim2\n",
       " 0    Murder -0.151595  0.085575\n",
       " 1   Assault -0.140128 -0.021127\n",
       " 2  UrbanPop  0.354758 -0.037788\n",
       " 3      Rape  0.087510  0.255170)"
      ]
     },
     "execution_count": 15,
     "metadata": {},
     "output_type": "execute_result"
    }
   ],
   "source": [
    "# Row principal coordinates F and column principal coordinates G\n",
    "F = Dr_inv_sqrt @ U @ np.diag(s)   # rows (states)\n",
    "G = Dc_inv_sqrt @ Vt.T @ np.diag(s) # columns (crime types)\n",
    "\n",
    "# Keep first two dimensions for plotting\n",
    "F2 = F[:, :2]\n",
    "G2 = G[:, :2]\n",
    "\n",
    "row_coords = pd.DataFrame(F2, columns=['Dim1','Dim2'])\n",
    "row_coords.insert(0, 'State', list(states))\n",
    "col_coords = pd.DataFrame(G2, columns=['Dim1','Dim2'])\n",
    "col_coords.insert(0, 'Variable', X.columns)\n",
    "\n",
    "row_coords.head(), col_coords\n"
   ]
  },
  {
   "cell_type": "code",
   "execution_count": 16,
   "id": "2efad92e-769f-45ea-8ad0-dc7c800803ab",
   "metadata": {},
   "outputs": [
    {
     "data": {
      "text/plain": [
       "(    State  CTR_Dim1  CTR_Dim2\n",
       " 10     10  0.138273  0.029829\n",
       " 32     32  0.091632  0.064574\n",
       " 48     48  0.076853  0.006248\n",
       " 23     23  0.051762  0.011832\n",
       " 39     39  0.050754  0.003038\n",
       " 14     14  0.049927  0.001140\n",
       " 22     22  0.048342  0.000004\n",
       " 28     28  0.045851  0.008443\n",
       " 33     33  0.036955  0.009820\n",
       " 1       1  0.030983  0.131357,\n",
       "    Variable  CTR_Dim1  CTR_Dim2\n",
       " 0    Murder  0.014986  0.035440\n",
       " 1   Assault  0.280751  0.047361\n",
       " 2  UrbanPop  0.690649  0.058154\n",
       " 3      Rape  0.013614  0.859046,\n",
       "     State  COS2_Dim1  COS2_Dim2\n",
       " 22     22   0.998177   0.000012\n",
       " 26     26   0.997005   0.000664\n",
       " 14     14   0.996802   0.003068\n",
       " 40     40   0.996705   0.002039\n",
       " 3       3   0.996338   0.003110\n",
       " 35     35   0.990549   0.004465\n",
       " 8       8   0.990266   0.009261\n",
       " 48     48   0.986939   0.010811\n",
       " 15     15   0.983697   0.003851\n",
       " 39     39   0.981176   0.007915,\n",
       "    Variable  COS2_Dim1  COS2_Dim2\n",
       " 0    Murder   0.194279   0.061909\n",
       " 1   Assault   0.971805   0.022090\n",
       " 2  UrbanPop   0.988413   0.011215\n",
       " 3      Rape   0.102889   0.874815)"
      ]
     },
     "execution_count": 16,
     "metadata": {},
     "output_type": "execute_result"
    }
   ],
   "source": [
    "# Row contributions to axis k: ctr_{ik} = r_i * F_{ik}^2 / λ_k\n",
    "ctr_rows = (r * (F**2)) / eigvals\n",
    "ctr_rows = pd.DataFrame(ctr_rows[:, :2], columns=['CTR_Dim1','CTR_Dim2'])\n",
    "ctr_rows.insert(0, 'State', list(states))\n",
    "\n",
    "# Column contributions to axis k: ctr_{jk} = c_j * G_{jk}^2 / λ_k\n",
    "ctr_cols = (c.T * (G**2)) / eigvals\n",
    "ctr_cols = pd.DataFrame(ctr_cols[:, :2], columns=['CTR_Dim1','CTR_Dim2'])\n",
    "ctr_cols.insert(0, 'Variable', X.columns)\n",
    "\n",
    "# COS² for rows/cols: share of a point's inertia carried by each axis\n",
    "row_dist2 = (F**2).sum(axis=1, keepdims=True)\n",
    "col_dist2 = (G**2).sum(axis=1, keepdims=True)\n",
    "cos2_rows = (F2**2) / row_dist2\n",
    "cos2_cols = (G2**2) / col_dist2\n",
    "\n",
    "cos2_rows = pd.DataFrame(cos2_rows, columns=['COS2_Dim1','COS2_Dim2'])\n",
    "cos2_rows.insert(0, 'State', list(states))\n",
    "cos2_cols = pd.DataFrame(cos2_cols, columns=['COS2_Dim1','COS2_Dim2'])\n",
    "cos2_cols.insert(0, 'Variable', X.columns)\n",
    "\n",
    "ctr_rows.sort_values('CTR_Dim1', ascending=False).head(10), \\\n",
    "ctr_cols, \\\n",
    "cos2_rows.sort_values('COS2_Dim1', ascending=False).head(10), \\\n",
    "cos2_cols\n"
   ]
  },
  {
   "cell_type": "code",
   "execution_count": 25,
   "id": "0bfc3137-97eb-4dfb-b6b0-465758dc34f7",
   "metadata": {},
   "outputs": [
    {
     "data": {
      "image/png": "[encoded data removed]",
      "text/plain": [
       "<Figure size 900x800 with 1 Axes>"
      ]
     },
     "metadata": {},
     "output_type": "display_data"
    }
   ],
   "source": [
    "plt.figure(figsize=(9,8))\n",
    "\n",
    "# Scale columns so both clouds fit nicely\n",
    "scale = (np.abs(F2).max() / np.abs(G2).max()) if np.abs(G2).max() > 0 else 1.0\n",
    "G2_plot = G2 * scale\n",
    "\n",
    "# Ensure 'states' contains the actual names from the dataset\n",
    "states = df['State']  # Column with state names\n",
    "\n",
    "# Plot states (rows) with names instead of numbers\n",
    "plt.scatter(F2[:,0], F2[:,1], alpha=0.7)\n",
    "for i, name in enumerate(states):\n",
    "    plt.text(F2[i,0], F2[i,1], name, fontsize=8)\n",
    "\n",
    "# Plot variables (columns)\n",
    "plt.scatter(G2_plot[:,0], G2_plot[:,1], marker='^', s=80, color=\"orange\")\n",
    "for j, var in enumerate(X.columns):\n",
    "    plt.text(G2_plot[j,0], G2_plot[j,1], var, fontsize=10, fontweight='bold')\n",
    "\n",
    "# Reference lines\n",
    "plt.axhline(0, linewidth=1, color='blue')\n",
    "plt.axvline(0, linewidth=1, color='blue')\n",
    "\n",
    "# Titles and labels\n",
    "plt.title(f\"CA Biplot (Dim1 & Dim2) — Inertia: {explained[0]*100:.1f}% + {explained[1]*100:.1f}%\")\n",
    "plt.xlabel(\"Dimension 1\")\n",
    "plt.ylabel(\"Dimension 2\")\n",
    "plt.tight_layout()\n",
    "plt.show()\n"
   ]
  },
  {
   "cell_type": "markdown",
   "id": "a1dfc157-f455-41b3-a63c-a302a89dda21",
   "metadata": {},
   "source": [
    "# Correspondence Analysis (CA) Biplot Interpretation\n",
    "\n",
    "This plot is a **Correspondence Analysis (CA) biplot** that visualizes the relationship between different U.S. states and crime statistics — specifically **Murder**, **Assault**, **Rape**, and **UrbanPop** (urban population percentage).\n",
    "\n",
    "\n",
    "## 1. Axes (Dimensions)\n",
    "- **Dimension 1 (X-axis)** and **Dimension 2 (Y-axis)** are the first two principal dimensions from correspondence analysis.\n",
    "- Together, they explain **83.5% + 11.3% = 94.8%** of the variation in the data, meaning this plot captures most of the information.\n",
    "\n",
    "\n",
    "## 2. Points on the Plot\n",
    "- **Blue points** → U.S. states.\n",
    "- **Orange triangles** → Variables: *Murder*, *Assault*, *Rape*, *UrbanPop*.\n",
    "\n",
    "\n",
    "\n",
    "## 3. Interpretation of Distances\n",
    "- **Closer points** indicate stronger similarity or association.\n",
    "- **States near a crime variable** tend to have relatively higher values for that variable.\n",
    "- **States far from a variable** have lower influence or relation to that variable.\n",
    "\n",
    "\n",
    "\n",
    "## 4. Reading the Relationships\n",
    "- **UrbanPop (bottom right)**  \n",
    "  States like **Hawaii, Wisconsin, Iowa, New Hampshire, North Dakota** are close to it, suggesting these states have higher urban population percentages.\n",
    "  \n",
    "- **Rape (top center-right)**  \n",
    "  No state is extremely close, but it is in the general direction of **Vermont, Indiana, Ohio, Utah** — suggesting slightly higher rates of rape relative to other crimes.\n",
    "  \n",
    "- **Murder (upper left)**  \n",
    "  **Alaska** is nearest, indicating relatively higher murder rates there.\n",
    "  \n",
    "- **Assault (bottom left)**  \n",
    "  **Mississippi, South Carolina** are closer, indicating higher assault rates.\n",
    "\n",
    "\n",
    "## 5. Neutral/Central States\n",
    "- States near the center (like **Texas, Missouri, Georgia**) have average or mixed crime statistics — no strong association with a specific variable.\n",
    "\n",
    "\n",
    "## 6. Quadrant Insights\n",
    "- **Top-right quadrant** → States leaning toward higher rape rates.\n",
    "- **Bottom-right quadrant** → States with high urban population.\n",
    "- **Top-left quadrant** → States with high murder rates.\n",
    "- **Bottom-left quadrant** → States with high assault rates.\n"
   ]
  }
 ],
 "metadata": {
  "kernelspec": {
   "display_name": "Python 3 (ipykernel)",
   "language": "python",
   "name": "python3"
  },
  "language_info": {
   "codemirror_mode": {
    "name": "ipython",
    "version": 3
   },
   "file_extension": ".py",
   "mimetype": "text/x-python",
   "name": "python",
   "nbconvert_exporter": "python",
   "pygments_lexer": "ipython3",
   "version": "3.12.7"
  }
 },
 "nbformat": 4,
 "nbformat_minor": 5
}
